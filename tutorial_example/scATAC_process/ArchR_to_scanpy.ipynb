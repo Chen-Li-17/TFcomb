{
 "cells": [
  {
   "cell_type": "markdown",
   "metadata": {
    "vscode": {
     "languageId": "plaintext"
    }
   },
   "source": [
    "# 1.2 ArchR cell-by-peak matrix to scanpy"
   ]
  },
  {
   "cell_type": "markdown",
   "metadata": {},
   "source": [
    "This notebook describes how to read the ArchR output and get a cell-by-peak matrix of Scanpy. "
   ]
  },
  {
   "cell_type": "markdown",
   "metadata": {},
   "source": [
    "## import"
   ]
  },
  {
   "cell_type": "code",
   "execution_count": null,
   "metadata": {},
   "outputs": [],
   "source": [
    "import scanpy as sc\n",
    "import os\n",
    "import pandas as pd"
   ]
  },
  {
   "cell_type": "markdown",
   "metadata": {},
   "source": [
    "## Generate cell-by-peak matrix with Scanpy adata format"
   ]
  },
  {
   "cell_type": "code",
   "execution_count": null,
   "metadata": {},
   "outputs": [],
   "source": [
    "# - load the ArchR output\n",
    "data_dir = './ArchR_files'\n",
    "\n",
    "mtx_file=os.path.join(data_dir,'pm_matrix.mtx')\n",
    "peak_file=os.path.join(data_dir,'pm_peak.csv')\n",
    "barcode_file=os.path.join(data_dir,'pm_barcode.csv')\n",
    "\n",
    "adata = sc.read_mtx(mtx_file)\n",
    "peak=pd.read_csv(peak_file, sep=',',header=0,index_col=0)\n",
    "barcode=pd.read_csv(barcode_file, sep=',',header=0,index_col=0)\n",
    "\n",
    "# - the peak feature should be in format of 'chrxxx_xxx_xxx' \n",
    "peak.index=[peak['seqnames'].values[i]+'_'+str(peak['start'].values[i])+'_'+str(peak['end'].values[i]) for i in range(len(peak['seqnames']))]\n",
    "adata_atac=adata.T\n",
    "adata_atac.obs=barcode\n",
    "adata_atac.var=peak"
   ]
  },
  {
   "cell_type": "code",
   "execution_count": null,
   "metadata": {},
   "outputs": [],
   "source": [
    "adata_atac"
   ]
  },
  {
   "cell_type": "code",
   "execution_count": null,
   "metadata": {},
   "outputs": [],
   "source": [
    "# - save the result\n",
    "save_dir = './ATAC_data'\n",
    "adata_atac.write(os.path.join(save_dir, 'adata_atac_raw.h5ad'))"
   ]
  },
  {
   "cell_type": "code",
   "execution_count": null,
   "metadata": {},
   "outputs": [],
   "source": []
  },
  {
   "cell_type": "code",
   "execution_count": null,
   "metadata": {},
   "outputs": [],
   "source": []
  }
 ],
 "metadata": {
  "kernelspec": {
   "display_name": "dgl",
   "language": "python",
   "name": "python3"
  },
  "language_info": {
   "name": "python",
   "version": "3.9.16"
  }
 },
 "nbformat": 4,
 "nbformat_minor": 2
}
